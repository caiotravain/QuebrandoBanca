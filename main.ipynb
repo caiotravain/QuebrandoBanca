{
 "cells": [
  {
   "cell_type": "code",
   "execution_count": 1,
   "metadata": {},
   "outputs": [
    {
     "name": "stdout",
     "output_type": "stream",
     "text": [
      "Collecting selenium\n",
      "  Downloading selenium-4.20.0-py3-none-any.whl.metadata (6.9 kB)\n",
      "Requirement already satisfied: urllib3<3,>=1.26 in c:\\users\\bbsab\\appdata\\local\\programs\\python\\python310\\lib\\site-packages (from urllib3[socks]<3,>=1.26->selenium) (1.26.15)\n",
      "Collecting trio~=0.17 (from selenium)\n",
      "  Using cached trio-0.25.0-py3-none-any.whl.metadata (8.7 kB)\n",
      "Collecting trio-websocket~=0.9 (from selenium)\n",
      "  Using cached trio_websocket-0.11.1-py3-none-any.whl.metadata (4.7 kB)\n",
      "Requirement already satisfied: certifi>=2021.10.8 in c:\\users\\bbsab\\appdata\\local\\programs\\python\\python310\\lib\\site-packages (from selenium) (2022.12.7)\n",
      "Collecting typing_extensions>=4.9.0 (from selenium)\n",
      "  Using cached typing_extensions-4.11.0-py3-none-any.whl.metadata (3.0 kB)\n",
      "Collecting attrs>=23.2.0 (from trio~=0.17->selenium)\n",
      "  Using cached attrs-23.2.0-py3-none-any.whl.metadata (9.5 kB)\n",
      "Collecting sortedcontainers (from trio~=0.17->selenium)\n",
      "  Using cached sortedcontainers-2.4.0-py2.py3-none-any.whl.metadata (10 kB)\n",
      "Requirement already satisfied: idna in c:\\users\\bbsab\\appdata\\local\\programs\\python\\python310\\lib\\site-packages (from trio~=0.17->selenium) (3.4)\n",
      "Collecting outcome (from trio~=0.17->selenium)\n",
      "  Using cached outcome-1.3.0.post0-py2.py3-none-any.whl.metadata (2.6 kB)\n",
      "Requirement already satisfied: sniffio>=1.3.0 in c:\\users\\bbsab\\appdata\\local\\programs\\python\\python310\\lib\\site-packages (from trio~=0.17->selenium) (1.3.0)\n",
      "Requirement already satisfied: cffi>=1.14 in c:\\users\\bbsab\\appdata\\local\\programs\\python\\python310\\lib\\site-packages (from trio~=0.17->selenium) (1.16.0)\n",
      "Collecting exceptiongroup (from trio~=0.17->selenium)\n",
      "  Downloading exceptiongroup-1.2.1-py3-none-any.whl.metadata (6.6 kB)\n",
      "Collecting wsproto>=0.14 (from trio-websocket~=0.9->selenium)\n",
      "  Using cached wsproto-1.2.0-py3-none-any.whl.metadata (5.6 kB)\n",
      "Collecting PySocks!=1.5.7,<2.0,>=1.5.6 (from urllib3[socks]<3,>=1.26->selenium)\n",
      "  Using cached PySocks-1.7.1-py3-none-any.whl.metadata (13 kB)\n",
      "Requirement already satisfied: pycparser in c:\\users\\bbsab\\appdata\\local\\programs\\python\\python310\\lib\\site-packages (from cffi>=1.14->trio~=0.17->selenium) (2.21)\n",
      "Requirement already satisfied: h11<1,>=0.9.0 in c:\\users\\bbsab\\appdata\\local\\programs\\python\\python310\\lib\\site-packages (from wsproto>=0.14->trio-websocket~=0.9->selenium) (0.14.0)\n",
      "Downloading selenium-4.20.0-py3-none-any.whl (9.5 MB)\n",
      "   ---------------------------------------- 0.0/9.5 MB ? eta -:--:--\n",
      "   - -------------------------------------- 0.4/9.5 MB 8.5 MB/s eta 0:00:02\n",
      "   --- ------------------------------------ 0.9/9.5 MB 10.9 MB/s eta 0:00:01\n",
      "   ------ --------------------------------- 1.5/9.5 MB 10.8 MB/s eta 0:00:01\n",
      "   -------- ------------------------------- 2.0/9.5 MB 10.5 MB/s eta 0:00:01\n",
      "   ---------- ----------------------------- 2.6/9.5 MB 11.6 MB/s eta 0:00:01\n",
      "   ------------- -------------------------- 3.2/9.5 MB 11.5 MB/s eta 0:00:01\n",
      "   --------------- ------------------------ 3.8/9.5 MB 12.0 MB/s eta 0:00:01\n",
      "   ------------------- -------------------- 4.6/9.5 MB 12.1 MB/s eta 0:00:01\n",
      "   --------------------- ------------------ 5.1/9.5 MB 12.5 MB/s eta 0:00:01\n",
      "   ------------------------ --------------- 5.7/9.5 MB 12.6 MB/s eta 0:00:01\n",
      "   -------------------------- ------------- 6.3/9.5 MB 12.6 MB/s eta 0:00:01\n",
      "   ----------------------------- ---------- 7.0/9.5 MB 12.7 MB/s eta 0:00:01\n",
      "   ----------------------------- ---------- 7.0/9.5 MB 12.5 MB/s eta 0:00:01\n",
      "   -------------------------------- ------- 7.7/9.5 MB 11.9 MB/s eta 0:00:01\n",
      "   ---------------------------------- ----- 8.2/9.5 MB 12.0 MB/s eta 0:00:01\n",
      "   ------------------------------------- -- 8.9/9.5 MB 12.1 MB/s eta 0:00:01\n",
      "   ---------------------------------------  9.5/9.5 MB 12.2 MB/s eta 0:00:01\n",
      "   ---------------------------------------- 9.5/9.5 MB 11.7 MB/s eta 0:00:00\n",
      "Using cached trio-0.25.0-py3-none-any.whl (467 kB)\n",
      "Using cached trio_websocket-0.11.1-py3-none-any.whl (17 kB)\n",
      "Using cached typing_extensions-4.11.0-py3-none-any.whl (34 kB)\n",
      "Using cached attrs-23.2.0-py3-none-any.whl (60 kB)\n",
      "Using cached PySocks-1.7.1-py3-none-any.whl (16 kB)\n",
      "Using cached wsproto-1.2.0-py3-none-any.whl (24 kB)\n",
      "Downloading exceptiongroup-1.2.1-py3-none-any.whl (16 kB)\n",
      "Using cached outcome-1.3.0.post0-py2.py3-none-any.whl (10 kB)\n",
      "Using cached sortedcontainers-2.4.0-py2.py3-none-any.whl (29 kB)\n",
      "Installing collected packages: sortedcontainers, wsproto, typing_extensions, PySocks, exceptiongroup, attrs, outcome, trio, trio-websocket, selenium\n",
      "  Attempting uninstall: typing_extensions\n",
      "    Found existing installation: typing_extensions 4.5.0\n",
      "    Uninstalling typing_extensions-4.5.0:\n",
      "      Successfully uninstalled typing_extensions-4.5.0\n",
      "  Attempting uninstall: attrs\n",
      "    Found existing installation: attrs 23.1.0\n",
      "    Uninstalling attrs-23.1.0:\n",
      "      Successfully uninstalled attrs-23.1.0\n",
      "Successfully installed PySocks-1.7.1 attrs-23.2.0 exceptiongroup-1.2.1 outcome-1.3.0.post0 selenium-4.20.0 sortedcontainers-2.4.0 trio-0.25.0 trio-websocket-0.11.1 typing_extensions-4.11.0 wsproto-1.2.0\n"
     ]
    },
    {
     "name": "stderr",
     "output_type": "stream",
     "text": [
      "\n",
      "[notice] A new release of pip is available: 23.3.1 -> 24.0\n",
      "[notice] To update, run: python.exe -m pip install --upgrade pip\n"
     ]
    }
   ],
   "source": [
    "#intsll selenium\n",
    "#install geckodriver\n",
    "!pip install selenium\n"
   ]
  },
  {
   "cell_type": "code",
   "execution_count": 32,
   "metadata": {},
   "outputs": [],
   "source": [
    "#basic imports\n",
    "from selenium import webdriver\n",
    "from selenium.webdriver.common.keys import Keys\n",
    "from selenium.webdriver.common.by import By\n",
    "import subprocess\n",
    "import pandas as pd\n",
    "from selenium.webdriver.support.ui import WebDriverWait\n",
    "from selenium.webdriver.common.by import By\n",
    "from selenium.webdriver.support import expected_conditions as EC\n"
   ]
  },
  {
   "cell_type": "code",
   "execution_count": 92,
   "metadata": {},
   "outputs": [
    {
     "ename": "WebDriverException",
     "evalue": "Message: unknown error: cannot connect to chrome at 127.0.0.1:9222\nfrom unknown error: DevTools returned unknown type:shared_storage_worklet\nStacktrace:\n\tGetHandleVerifier [0x00007FF632B71502+60802]\n\t(No symbol) [0x00007FF632AEAC02]\n\t(No symbol) [0x00007FF6329A7CE4]\n\t(No symbol) [0x00007FF6329BBC82]\n\t(No symbol) [0x00007FF6329BC1A1]\n\t(No symbol) [0x00007FF632993F3F]\n\t(No symbol) [0x00007FF632993DF4]\n\t(No symbol) [0x00007FF6329E4D40]\n\t(No symbol) [0x00007FF6329DA3F9]\n\t(No symbol) [0x00007FF632A26037]\n\t(No symbol) [0x00007FF632A256B0]\n\t(No symbol) [0x00007FF632A1A923]\n\t(No symbol) [0x00007FF6329E8FEC]\n\t(No symbol) [0x00007FF6329E9C21]\n\tGetHandleVerifier [0x00007FF632E7411D+3217821]\n\tGetHandleVerifier [0x00007FF632EB60B7+3488055]\n\tGetHandleVerifier [0x00007FF632EAF03F+3459263]\n\tGetHandleVerifier [0x00007FF632C2B846+823494]\n\t(No symbol) [0x00007FF632AF5F9F]\n\t(No symbol) [0x00007FF632AF0EC4]\n\t(No symbol) [0x00007FF632AF1052]\n\t(No symbol) [0x00007FF632AE18A4]\n\tBaseThreadInitThunk [0x00007FF8782F257D+29]\n\tRtlUserThreadStart [0x00007FF878E8AA48+40]\n",
     "output_type": "error",
     "traceback": [
      "\u001b[1;31m---------------------------------------------------------------------------\u001b[0m",
      "\u001b[1;31mWebDriverException\u001b[0m                        Traceback (most recent call last)",
      "Cell \u001b[1;32mIn[92], line 11\u001b[0m\n\u001b[0;32m      7\u001b[0m options\u001b[38;5;241m.\u001b[39madd_argument(\u001b[38;5;124m\"\u001b[39m\u001b[38;5;124m--disable-blink-features=AutomationControlled\u001b[39m\u001b[38;5;124m\"\u001b[39m)\n\u001b[0;32m      8\u001b[0m \u001b[38;5;66;03m#add option to bypass detection\u001b[39;00m\n\u001b[1;32m---> 11\u001b[0m driver \u001b[38;5;241m=\u001b[39m \u001b[43mwebdriver\u001b[49m\u001b[38;5;241;43m.\u001b[39;49m\u001b[43mChrome\u001b[49m\u001b[43m(\u001b[49m\u001b[43moptions\u001b[49m\u001b[38;5;241;43m=\u001b[39;49m\u001b[43moptions\u001b[49m\u001b[43m)\u001b[49m\n\u001b[0;32m     12\u001b[0m driver\u001b[38;5;241m.\u001b[39mmaximize_window()\n\u001b[0;32m     13\u001b[0m \u001b[38;5;66;03m# driver.get('https://br.sporting.com/sport/futebol/brasil/brasileirao-serie-a-sporting/10016/')\u001b[39;00m\n",
      "File \u001b[1;32mc:\\Users\\bbsab\\AppData\\Local\\Programs\\Python\\Python310\\lib\\site-packages\\selenium\\webdriver\\chrome\\webdriver.py:45\u001b[0m, in \u001b[0;36mWebDriver.__init__\u001b[1;34m(self, options, service, keep_alive)\u001b[0m\n\u001b[0;32m     42\u001b[0m service \u001b[38;5;241m=\u001b[39m service \u001b[38;5;28;01mif\u001b[39;00m service \u001b[38;5;28;01melse\u001b[39;00m Service()\n\u001b[0;32m     43\u001b[0m options \u001b[38;5;241m=\u001b[39m options \u001b[38;5;28;01mif\u001b[39;00m options \u001b[38;5;28;01melse\u001b[39;00m Options()\n\u001b[1;32m---> 45\u001b[0m \u001b[38;5;28;43msuper\u001b[39;49m\u001b[43m(\u001b[49m\u001b[43m)\u001b[49m\u001b[38;5;241;43m.\u001b[39;49m\u001b[38;5;21;43m__init__\u001b[39;49m\u001b[43m(\u001b[49m\n\u001b[0;32m     46\u001b[0m \u001b[43m    \u001b[49m\u001b[43mbrowser_name\u001b[49m\u001b[38;5;241;43m=\u001b[39;49m\u001b[43mDesiredCapabilities\u001b[49m\u001b[38;5;241;43m.\u001b[39;49m\u001b[43mCHROME\u001b[49m\u001b[43m[\u001b[49m\u001b[38;5;124;43m\"\u001b[39;49m\u001b[38;5;124;43mbrowserName\u001b[39;49m\u001b[38;5;124;43m\"\u001b[39;49m\u001b[43m]\u001b[49m\u001b[43m,\u001b[49m\n\u001b[0;32m     47\u001b[0m \u001b[43m    \u001b[49m\u001b[43mvendor_prefix\u001b[49m\u001b[38;5;241;43m=\u001b[39;49m\u001b[38;5;124;43m\"\u001b[39;49m\u001b[38;5;124;43mgoog\u001b[39;49m\u001b[38;5;124;43m\"\u001b[39;49m\u001b[43m,\u001b[49m\n\u001b[0;32m     48\u001b[0m \u001b[43m    \u001b[49m\u001b[43moptions\u001b[49m\u001b[38;5;241;43m=\u001b[39;49m\u001b[43moptions\u001b[49m\u001b[43m,\u001b[49m\n\u001b[0;32m     49\u001b[0m \u001b[43m    \u001b[49m\u001b[43mservice\u001b[49m\u001b[38;5;241;43m=\u001b[39;49m\u001b[43mservice\u001b[49m\u001b[43m,\u001b[49m\n\u001b[0;32m     50\u001b[0m \u001b[43m    \u001b[49m\u001b[43mkeep_alive\u001b[49m\u001b[38;5;241;43m=\u001b[39;49m\u001b[43mkeep_alive\u001b[49m\u001b[43m,\u001b[49m\n\u001b[0;32m     51\u001b[0m \u001b[43m\u001b[49m\u001b[43m)\u001b[49m\n",
      "File \u001b[1;32mc:\\Users\\bbsab\\AppData\\Local\\Programs\\Python\\Python310\\lib\\site-packages\\selenium\\webdriver\\chromium\\webdriver.py:66\u001b[0m, in \u001b[0;36mChromiumDriver.__init__\u001b[1;34m(self, browser_name, vendor_prefix, options, service, keep_alive)\u001b[0m\n\u001b[0;32m     57\u001b[0m executor \u001b[38;5;241m=\u001b[39m ChromiumRemoteConnection(\n\u001b[0;32m     58\u001b[0m     remote_server_addr\u001b[38;5;241m=\u001b[39m\u001b[38;5;28mself\u001b[39m\u001b[38;5;241m.\u001b[39mservice\u001b[38;5;241m.\u001b[39mservice_url,\n\u001b[0;32m     59\u001b[0m     browser_name\u001b[38;5;241m=\u001b[39mbrowser_name,\n\u001b[1;32m   (...)\u001b[0m\n\u001b[0;32m     62\u001b[0m     ignore_proxy\u001b[38;5;241m=\u001b[39moptions\u001b[38;5;241m.\u001b[39m_ignore_local_proxy,\n\u001b[0;32m     63\u001b[0m )\n\u001b[0;32m     65\u001b[0m \u001b[38;5;28;01mtry\u001b[39;00m:\n\u001b[1;32m---> 66\u001b[0m     \u001b[38;5;28;43msuper\u001b[39;49m\u001b[43m(\u001b[49m\u001b[43m)\u001b[49m\u001b[38;5;241;43m.\u001b[39;49m\u001b[38;5;21;43m__init__\u001b[39;49m\u001b[43m(\u001b[49m\u001b[43mcommand_executor\u001b[49m\u001b[38;5;241;43m=\u001b[39;49m\u001b[43mexecutor\u001b[49m\u001b[43m,\u001b[49m\u001b[43m \u001b[49m\u001b[43moptions\u001b[49m\u001b[38;5;241;43m=\u001b[39;49m\u001b[43moptions\u001b[49m\u001b[43m)\u001b[49m\n\u001b[0;32m     67\u001b[0m \u001b[38;5;28;01mexcept\u001b[39;00m \u001b[38;5;167;01mException\u001b[39;00m:\n\u001b[0;32m     68\u001b[0m     \u001b[38;5;28mself\u001b[39m\u001b[38;5;241m.\u001b[39mquit()\n",
      "File \u001b[1;32mc:\\Users\\bbsab\\AppData\\Local\\Programs\\Python\\Python310\\lib\\site-packages\\selenium\\webdriver\\remote\\webdriver.py:208\u001b[0m, in \u001b[0;36mWebDriver.__init__\u001b[1;34m(self, command_executor, keep_alive, file_detector, options)\u001b[0m\n\u001b[0;32m    206\u001b[0m \u001b[38;5;28mself\u001b[39m\u001b[38;5;241m.\u001b[39m_authenticator_id \u001b[38;5;241m=\u001b[39m \u001b[38;5;28;01mNone\u001b[39;00m\n\u001b[0;32m    207\u001b[0m \u001b[38;5;28mself\u001b[39m\u001b[38;5;241m.\u001b[39mstart_client()\n\u001b[1;32m--> 208\u001b[0m \u001b[38;5;28;43mself\u001b[39;49m\u001b[38;5;241;43m.\u001b[39;49m\u001b[43mstart_session\u001b[49m\u001b[43m(\u001b[49m\u001b[43mcapabilities\u001b[49m\u001b[43m)\u001b[49m\n",
      "File \u001b[1;32mc:\\Users\\bbsab\\AppData\\Local\\Programs\\Python\\Python310\\lib\\site-packages\\selenium\\webdriver\\remote\\webdriver.py:292\u001b[0m, in \u001b[0;36mWebDriver.start_session\u001b[1;34m(self, capabilities)\u001b[0m\n\u001b[0;32m    285\u001b[0m \u001b[38;5;250m\u001b[39m\u001b[38;5;124;03m\"\"\"Creates a new session with the desired capabilities.\u001b[39;00m\n\u001b[0;32m    286\u001b[0m \n\u001b[0;32m    287\u001b[0m \u001b[38;5;124;03m:Args:\u001b[39;00m\n\u001b[0;32m    288\u001b[0m \u001b[38;5;124;03m - capabilities - a capabilities dict to start the session with.\u001b[39;00m\n\u001b[0;32m    289\u001b[0m \u001b[38;5;124;03m\"\"\"\u001b[39;00m\n\u001b[0;32m    291\u001b[0m caps \u001b[38;5;241m=\u001b[39m _create_caps(capabilities)\n\u001b[1;32m--> 292\u001b[0m response \u001b[38;5;241m=\u001b[39m \u001b[38;5;28;43mself\u001b[39;49m\u001b[38;5;241;43m.\u001b[39;49m\u001b[43mexecute\u001b[49m\u001b[43m(\u001b[49m\u001b[43mCommand\u001b[49m\u001b[38;5;241;43m.\u001b[39;49m\u001b[43mNEW_SESSION\u001b[49m\u001b[43m,\u001b[49m\u001b[43m \u001b[49m\u001b[43mcaps\u001b[49m\u001b[43m)\u001b[49m[\u001b[38;5;124m\"\u001b[39m\u001b[38;5;124mvalue\u001b[39m\u001b[38;5;124m\"\u001b[39m]\n\u001b[0;32m    293\u001b[0m \u001b[38;5;28mself\u001b[39m\u001b[38;5;241m.\u001b[39msession_id \u001b[38;5;241m=\u001b[39m response\u001b[38;5;241m.\u001b[39mget(\u001b[38;5;124m\"\u001b[39m\u001b[38;5;124msessionId\u001b[39m\u001b[38;5;124m\"\u001b[39m)\n\u001b[0;32m    294\u001b[0m \u001b[38;5;28mself\u001b[39m\u001b[38;5;241m.\u001b[39mcaps \u001b[38;5;241m=\u001b[39m response\u001b[38;5;241m.\u001b[39mget(\u001b[38;5;124m\"\u001b[39m\u001b[38;5;124mcapabilities\u001b[39m\u001b[38;5;124m\"\u001b[39m)\n",
      "File \u001b[1;32mc:\\Users\\bbsab\\AppData\\Local\\Programs\\Python\\Python310\\lib\\site-packages\\selenium\\webdriver\\remote\\webdriver.py:347\u001b[0m, in \u001b[0;36mWebDriver.execute\u001b[1;34m(self, driver_command, params)\u001b[0m\n\u001b[0;32m    345\u001b[0m response \u001b[38;5;241m=\u001b[39m \u001b[38;5;28mself\u001b[39m\u001b[38;5;241m.\u001b[39mcommand_executor\u001b[38;5;241m.\u001b[39mexecute(driver_command, params)\n\u001b[0;32m    346\u001b[0m \u001b[38;5;28;01mif\u001b[39;00m response:\n\u001b[1;32m--> 347\u001b[0m     \u001b[38;5;28;43mself\u001b[39;49m\u001b[38;5;241;43m.\u001b[39;49m\u001b[43merror_handler\u001b[49m\u001b[38;5;241;43m.\u001b[39;49m\u001b[43mcheck_response\u001b[49m\u001b[43m(\u001b[49m\u001b[43mresponse\u001b[49m\u001b[43m)\u001b[49m\n\u001b[0;32m    348\u001b[0m     response[\u001b[38;5;124m\"\u001b[39m\u001b[38;5;124mvalue\u001b[39m\u001b[38;5;124m\"\u001b[39m] \u001b[38;5;241m=\u001b[39m \u001b[38;5;28mself\u001b[39m\u001b[38;5;241m.\u001b[39m_unwrap_value(response\u001b[38;5;241m.\u001b[39mget(\u001b[38;5;124m\"\u001b[39m\u001b[38;5;124mvalue\u001b[39m\u001b[38;5;124m\"\u001b[39m, \u001b[38;5;28;01mNone\u001b[39;00m))\n\u001b[0;32m    349\u001b[0m     \u001b[38;5;28;01mreturn\u001b[39;00m response\n",
      "File \u001b[1;32mc:\\Users\\bbsab\\AppData\\Local\\Programs\\Python\\Python310\\lib\\site-packages\\selenium\\webdriver\\remote\\errorhandler.py:229\u001b[0m, in \u001b[0;36mErrorHandler.check_response\u001b[1;34m(self, response)\u001b[0m\n\u001b[0;32m    227\u001b[0m         alert_text \u001b[38;5;241m=\u001b[39m value[\u001b[38;5;124m\"\u001b[39m\u001b[38;5;124malert\u001b[39m\u001b[38;5;124m\"\u001b[39m]\u001b[38;5;241m.\u001b[39mget(\u001b[38;5;124m\"\u001b[39m\u001b[38;5;124mtext\u001b[39m\u001b[38;5;124m\"\u001b[39m)\n\u001b[0;32m    228\u001b[0m     \u001b[38;5;28;01mraise\u001b[39;00m exception_class(message, screen, stacktrace, alert_text)  \u001b[38;5;66;03m# type: ignore[call-arg]  # mypy is not smart enough here\u001b[39;00m\n\u001b[1;32m--> 229\u001b[0m \u001b[38;5;28;01mraise\u001b[39;00m exception_class(message, screen, stacktrace)\n",
      "\u001b[1;31mWebDriverException\u001b[0m: Message: unknown error: cannot connect to chrome at 127.0.0.1:9222\nfrom unknown error: DevTools returned unknown type:shared_storage_worklet\nStacktrace:\n\tGetHandleVerifier [0x00007FF632B71502+60802]\n\t(No symbol) [0x00007FF632AEAC02]\n\t(No symbol) [0x00007FF6329A7CE4]\n\t(No symbol) [0x00007FF6329BBC82]\n\t(No symbol) [0x00007FF6329BC1A1]\n\t(No symbol) [0x00007FF632993F3F]\n\t(No symbol) [0x00007FF632993DF4]\n\t(No symbol) [0x00007FF6329E4D40]\n\t(No symbol) [0x00007FF6329DA3F9]\n\t(No symbol) [0x00007FF632A26037]\n\t(No symbol) [0x00007FF632A256B0]\n\t(No symbol) [0x00007FF632A1A923]\n\t(No symbol) [0x00007FF6329E8FEC]\n\t(No symbol) [0x00007FF6329E9C21]\n\tGetHandleVerifier [0x00007FF632E7411D+3217821]\n\tGetHandleVerifier [0x00007FF632EB60B7+3488055]\n\tGetHandleVerifier [0x00007FF632EAF03F+3459263]\n\tGetHandleVerifier [0x00007FF632C2B846+823494]\n\t(No symbol) [0x00007FF632AF5F9F]\n\t(No symbol) [0x00007FF632AF0EC4]\n\t(No symbol) [0x00007FF632AF1052]\n\t(No symbol) [0x00007FF632AE18A4]\n\tBaseThreadInitThunk [0x00007FF8782F257D+29]\n\tRtlUserThreadStart [0x00007FF878E8AA48+40]\n"
     ]
    }
   ],
   "source": [
    "subprocess.Popen(\n",
    "   '\"C:\\\\Program Files\\\\Google\\\\Chrome\\\\Application\\\\chrome.exe\" --remote-debugging-port=9222', shell=True)\n",
    "   \n",
    "options = webdriver.ChromeOptions()\n",
    "options.add_experimental_option(\"debuggerAddress\", \"127.0.0.1:9222\")\n",
    "#add option to bypass detection\n",
    "options.add_argument(\"--disable-blink-features=AutomationControlled\")\n",
    "#add option to bypass detection\n",
    "\n",
    "\n",
    "driver = webdriver.Chrome(options=options)\n",
    "driver.maximize_window()\n",
    "# driver.get('https://br.sporting.com/sport/futebol/brasil/brasileirao-serie-a-sporting/10016/')\n",
    "driver.get('https://sports.sportingbet.com/pt-br/sports/futebol-4/aposta/brasil-33/brasileir%C3%A3o-a-102838')"
   ]
  },
  {
   "cell_type": "code",
   "execution_count": 4,
   "metadata": {},
   "outputs": [
    {
     "name": "stdout",
     "output_type": "stream",
     "text": [
      "['2.70', '3.20', '2.60', '2.10', '1.65', '2.87', '3.00', '2.25', '2.00', '1.68', '2.05', '3.25', '3.75', '2.30', '1.53', '3.40', '3.00', '2.30', '2.40', '1.51', '1.65', '3.80', '5.25', '1.98', '1.73', '1.88', '3.60', '4.00', '1.85', '1.85', '5.00', '3.40', '1.78', '2.35', '1.53']\n"
     ]
    }
   ],
   "source": [
    "#find all grid-group-container class\n",
    "# driver.find_elements(By.CLASS_NAME, 'grid-group-container')[0]\n",
    "#get option option-value ng-star-inserted class on the grid-group-container\n",
    "# driver.find_elements(By.CLASS_NAME, 'grid-group-container')[0].find_element(By.CLASS_NAME, 'option-value.ng-star-inserted')\n",
    "#get their value    \n",
    "lista_sporting = []\n",
    "driver.find_elements(By.CLASS_NAME, 'option-value.ng-star-inserted')\n",
    "for i in driver.find_elements(By.CLASS_NAME, 'option-value.ng-star-inserted'):\n",
    "    lista_sporting.append(i.text)\n",
    "print(lista_sporting)\n"
   ]
  },
  {
   "cell_type": "code",
   "execution_count": 5,
   "metadata": {},
   "outputs": [
    {
     "name": "stdout",
     "output_type": "stream",
     "text": [
      "['Fluminense', 'Atlético-MG', 'RB Bragantino', 'Flamengo', 'Corinthians', 'Fortaleza', 'Vitória', 'São Paulo', 'Athletico-PR', 'Vasco', 'Botafogo', 'Bahia', 'Cuiabá', 'Palmeiras']\n"
     ]
    }
   ],
   "source": [
    "#find vasco text on the page and get the class\n",
    "# classes = (driver.find_element(By.XPATH, '//*[contains(text(), \"Vasco\")]').get_attribute('class'))\n",
    "# #find the element with the class\n",
    "lista_times_sporting = []\n",
    "driver.find_elements(By.CLASS_NAME, \"participant-container\")\n",
    "for i in driver.find_elements(By.CLASS_NAME, \"participant-container\"):\n",
    "    lista_times_sporting.append(i.text)\n",
    "print(lista_times_sporting)"
   ]
  },
  {
   "cell_type": "code",
   "execution_count": 6,
   "metadata": {},
   "outputs": [
    {
     "name": "stdout",
     "output_type": "stream",
     "text": [
      "[]\n"
     ]
    }
   ],
   "source": [
    "#find grid-event-wrapper image empty ng-star-inserted\n",
    "lista_remover_sporting = []\n",
    "driver.find_elements(By.CLASS_NAME, 'grid-event-wrapper.image.empty.ng-star-inserted')\n",
    "for i in driver.find_elements(By.CLASS_NAME, 'grid-event-wrapper.image.empty.ng-star-inserted'):\n",
    "    time = i.find_elements(By.CLASS_NAME, 'participant-container')\n",
    "    for j in time:\n",
    "        lista_remover_sporting.append(j.text)\n",
    "print(lista_remover_sporting)"
   ]
  },
  {
   "cell_type": "code",
   "execution_count": 7,
   "metadata": {},
   "outputs": [],
   "source": [
    "dict_times_bet_sporting = {}\n",
    "#save bet_0 -- teams 1 and 2 and their odds\n",
    "i = 0\n",
    "j = 0\n",
    "while i < len(lista_times_sporting):\n",
    "    if lista_times_sporting[i] and lista_times_sporting[i+1] not in lista_remover_sporting:\n",
    "        dict_times_bet_sporting[lista_times_sporting[i] + \" x \" + lista_times_sporting[i+1]] = [lista_sporting[j]  , lista_sporting[j+1], lista_sporting[j+2]]\n",
    "        j += 5\n",
    "    i += 2\n",
    "\n"
   ]
  },
  {
   "cell_type": "code",
   "execution_count": 8,
   "metadata": {},
   "outputs": [
    {
     "name": "stdout",
     "output_type": "stream",
     "text": [
      "{'Fluminense x Atlético-MG': ['2.70', '3.20', '2.60'], 'RB Bragantino x Flamengo': ['2.87', '3.00', '2.25'], 'Corinthians x Fortaleza': ['2.05', '3.25', '3.75'], 'Vitória x São Paulo': ['3.40', '3.00', '2.30'], 'Athletico-PR x Vasco': ['1.65', '3.80', '5.25'], 'Botafogo x Bahia': ['1.88', '3.60', '4.00'], 'Cuiabá x Palmeiras': ['5.00', '3.40', '1.78']}\n"
     ]
    }
   ],
   "source": [
    "print(dict_times_bet_sporting)"
   ]
  },
  {
   "cell_type": "code",
   "execution_count": 10,
   "metadata": {},
   "outputs": [
    {
     "data": {
      "text/html": [
       "<div>\n",
       "<style scoped>\n",
       "    .dataframe tbody tr th:only-of-type {\n",
       "        vertical-align: middle;\n",
       "    }\n",
       "\n",
       "    .dataframe tbody tr th {\n",
       "        vertical-align: top;\n",
       "    }\n",
       "\n",
       "    .dataframe thead th {\n",
       "        text-align: right;\n",
       "    }\n",
       "</style>\n",
       "<table border=\"1\" class=\"dataframe\">\n",
       "  <thead>\n",
       "    <tr style=\"text-align: right;\">\n",
       "      <th></th>\n",
       "      <th>0</th>\n",
       "      <th>1</th>\n",
       "      <th>2</th>\n",
       "    </tr>\n",
       "  </thead>\n",
       "  <tbody>\n",
       "    <tr>\n",
       "      <th>Fluminense x Atlético-MG</th>\n",
       "      <td>2.70</td>\n",
       "      <td>3.20</td>\n",
       "      <td>2.60</td>\n",
       "    </tr>\n",
       "    <tr>\n",
       "      <th>RB Bragantino x Flamengo</th>\n",
       "      <td>2.87</td>\n",
       "      <td>3.00</td>\n",
       "      <td>2.25</td>\n",
       "    </tr>\n",
       "    <tr>\n",
       "      <th>Corinthians x Fortaleza</th>\n",
       "      <td>2.05</td>\n",
       "      <td>3.25</td>\n",
       "      <td>3.75</td>\n",
       "    </tr>\n",
       "    <tr>\n",
       "      <th>Vitória x São Paulo</th>\n",
       "      <td>3.40</td>\n",
       "      <td>3.00</td>\n",
       "      <td>2.30</td>\n",
       "    </tr>\n",
       "    <tr>\n",
       "      <th>Athletico-PR x Vasco</th>\n",
       "      <td>1.65</td>\n",
       "      <td>3.80</td>\n",
       "      <td>5.25</td>\n",
       "    </tr>\n",
       "    <tr>\n",
       "      <th>Botafogo x Bahia</th>\n",
       "      <td>1.88</td>\n",
       "      <td>3.60</td>\n",
       "      <td>4.00</td>\n",
       "    </tr>\n",
       "    <tr>\n",
       "      <th>Cuiabá x Palmeiras</th>\n",
       "      <td>5.00</td>\n",
       "      <td>3.40</td>\n",
       "      <td>1.78</td>\n",
       "    </tr>\n",
       "  </tbody>\n",
       "</table>\n",
       "</div>"
      ],
      "text/plain": [
       "                             0     1     2\n",
       "Fluminense x Atlético-MG  2.70  3.20  2.60\n",
       "RB Bragantino x Flamengo  2.87  3.00  2.25\n",
       "Corinthians x Fortaleza   2.05  3.25  3.75\n",
       "Vitória x São Paulo       3.40  3.00  2.30\n",
       "Athletico-PR x Vasco      1.65  3.80  5.25\n",
       "Botafogo x Bahia          1.88  3.60  4.00\n",
       "Cuiabá x Palmeiras        5.00  3.40  1.78"
      ]
     },
     "execution_count": 10,
     "metadata": {},
     "output_type": "execute_result"
    }
   ],
   "source": [
    "#dict to dataframe\n",
    "df_sporting = pd.DataFrame(dict_times_bet_sporting).T\n",
    "df_sporting"
   ]
  },
  {
   "cell_type": "code",
   "execution_count": 30,
   "metadata": {},
   "outputs": [],
   "source": [
    "driver.get('https://br.betano.com/sport/futebol/brasil/brasileirao-serie-a-betano/10016/')"
   ]
  },
  {
   "cell_type": "code",
   "execution_count": 49,
   "metadata": {},
   "outputs": [
    {
     "name": "stdout",
     "output_type": "stream",
     "text": [
      "['Fluminense', 'Atlético-MG', '1', '2.82', 'X', '3.20', '2', '2.62', '04/05\\n18:30', 'Bragantino', 'Flamengo', '1', '3.00', 'X', '3.30', '2', '2.42', '04/05\\n21:00', 'Corinthians', 'Fortaleza', '1', '2.07', 'X', '3.15', '2', '4.00', '05/05\\n16:00', 'Vitória', 'São Paulo', '1', '3.30', 'X', '3.25', '2', '2.30', '05/05\\n16:00', 'Athletico-PR', 'Vasco da Gama', '1', '1.60', 'X', '4.00', '2', '5.80', '05/05\\n18:30', 'Botafogo-RJ', 'Bahia', '1', '1.88', 'X', '3.65', '2', '4.05', '05/05\\n18:30', 'Cuiabá', 'Palmeiras', '1', '5.30', 'X', '3.55', '2', '1.72', '11/05\\n16:00', 'Flamengo', 'Corinthians', '1', '1.60', 'X', '3.75', '2', '6.20', '11/05\\n21:00', 'Atlético-MG', 'Grêmio', '1', '1.80', 'X', '3.60', '2', '4.70', '', '', '', '', '', '', '', '', '', '', '', '', '', '', '', '', '', '', '', '', '', '', '', '', '', '', '', '', '', '', '', '', '', '', '', '', '', '', '', '', '', '', '', '', '', '', '', '', '', '', '', '', '', '', '', '', '', '', '', '', '', '', '']\n"
     ]
    }
   ],
   "source": [
    "lista_betano = []\n",
    "lista_times_serieA = ['Athletico', 'Atlético-GO', 'Atlético-MG', 'Bahia', 'Botafogo', 'Bragantino', 'Corinthians', 'Cuiabá', 'Flamengo', 'Fluminense', 'Fortaleza', 'Grêmio', 'Internacional', 'Juventude', 'Palmeiras', 'São Paulo', 'Vasco', 'Vitória']\n",
    "# driver.find_elements(By.CLASS_NAME, 'tw-text-s')\n",
    "achou = False\n",
    "WebDriverWait(driver, 10).until(EC.presence_of_element_located((By.XPATH, \"//span[@class='tw-text-s tw-leading-s tw-font-bold tw-text-tertiary dark:tw-text-quartary']\")))\n",
    "nao_achados = 0\n",
    "bets = 0\n",
    "inicio = False\n",
    "for i in driver.find_elements(By.CLASS_NAME, 'tw-leading-s' ):\n",
    "    if i.text in lista_times_serieA:\n",
    "        achou = True\n",
    "        nao_achados = 0\n",
    "        inicio = True\n",
    "    if achou:\n",
    "        lista_betano.append(i.text)\n",
    "    elif i.text not in lista_times_serieA:\n",
    "        nao_achados += 1\n",
    "    elif nao_achados < 3:\n",
    "        lista_betano.append(i.text)\n",
    "    elif achou and nao_achados > 6:\n",
    "        break\n",
    "print(lista_betano)"
   ]
  },
  {
   "cell_type": "code",
   "execution_count": 67,
   "metadata": {},
   "outputs": [],
   "source": [
    "#remove the empty spaces on the betano list\n",
    "lista_betano = [i for i in lista_betano if i]\n",
    "#remove execatly the numbers 1 and 2\n",
    "lista_betano = [i for i in lista_betano if i != '1' and i != '2' and i != 'X' and \"\\n\" not in i]\n"
   ]
  },
  {
   "cell_type": "code",
   "execution_count": 88,
   "metadata": {},
   "outputs": [
    {
     "name": "stdout",
     "output_type": "stream",
     "text": [
      "['Fluminense', 'Atlético-MG', '2.82', '3.20', '2.62', 'RB-Bragantino', 'Flamengo', '3.00', '3.30', '2.42', 'Corinthians', 'Fortaleza', '2.07', '3.15', '4.00', 'Vitória', 'São Paulo', '3.30', '3.25', '2.30', 'Athletico-PR', 'Vasco', '1.60', '4.00', '5.80', 'Botafogo-RJ', 'Bahia', '1.88', '3.65', '4.05', 'Cuiabá', 'Palmeiras', '5.30', '3.55', '1.72', 'Flamengo', 'Corinthians', '1.60', '3.75', '6.20', 'Atlético-MG', 'Grêmio', '1.80', '3.60', '4.70']\n"
     ]
    }
   ],
   "source": [
    "print(lista_betano)"
   ]
  },
  {
   "cell_type": "code",
   "execution_count": 102,
   "metadata": {},
   "outputs": [
    {
     "data": {
      "text/plain": [
       "['Fluminense',\n",
       " 'Atlético-MG',\n",
       " '2.82',\n",
       " '3.20',\n",
       " '2.62',\n",
       " 'RB Bragantino',\n",
       " 'Flamengo',\n",
       " '3.00',\n",
       " '3.30',\n",
       " '2.42',\n",
       " 'Corinthians',\n",
       " 'Fortaleza',\n",
       " '2.07',\n",
       " '3.15',\n",
       " '4.00',\n",
       " 'Vitória',\n",
       " 'São Paulo',\n",
       " '3.30',\n",
       " '3.25',\n",
       " '2.30',\n",
       " 'Athletico-PR',\n",
       " 'Vasco',\n",
       " '1.60',\n",
       " '4.00',\n",
       " '5.80',\n",
       " 'Botafogo',\n",
       " 'Bahia',\n",
       " '1.88',\n",
       " '3.65',\n",
       " '4.05',\n",
       " 'Cuiabá',\n",
       " 'Palmeiras',\n",
       " '5.30',\n",
       " '3.55',\n",
       " '1.72',\n",
       " 'Flamengo',\n",
       " 'Corinthians',\n",
       " '1.60',\n",
       " '3.75',\n",
       " '6.20',\n",
       " 'Atlético-MG',\n",
       " 'Grêmio',\n",
       " '1.80',\n",
       " '3.60',\n",
       " '4.70']"
      ]
     },
     "execution_count": 102,
     "metadata": {},
     "output_type": "execute_result"
    }
   ],
   "source": [
    "#change Vasco da Gama to Vasco and Bragantino to RB Bragantino\n",
    "lista_betano = [i.replace('Vasco da Gama', 'Vasco').replace('RB-Bragantino', 'RB Bragantino') for i in lista_betano]\n",
    "lista_betano"
   ]
  },
  {
   "cell_type": "code",
   "execution_count": 103,
   "metadata": {},
   "outputs": [
    {
     "data": {
      "text/html": [
       "<div>\n",
       "<style scoped>\n",
       "    .dataframe tbody tr th:only-of-type {\n",
       "        vertical-align: middle;\n",
       "    }\n",
       "\n",
       "    .dataframe tbody tr th {\n",
       "        vertical-align: top;\n",
       "    }\n",
       "\n",
       "    .dataframe thead th {\n",
       "        text-align: right;\n",
       "    }\n",
       "</style>\n",
       "<table border=\"1\" class=\"dataframe\">\n",
       "  <thead>\n",
       "    <tr style=\"text-align: right;\">\n",
       "      <th></th>\n",
       "      <th>Casa</th>\n",
       "      <th>Empate</th>\n",
       "      <th>Fora</th>\n",
       "    </tr>\n",
       "  </thead>\n",
       "  <tbody>\n",
       "    <tr>\n",
       "      <th>Fluminense x Atlético-MG</th>\n",
       "      <td>2.82</td>\n",
       "      <td>3.20</td>\n",
       "      <td>2.62</td>\n",
       "    </tr>\n",
       "    <tr>\n",
       "      <th>RB Bragantino x Flamengo</th>\n",
       "      <td>3.00</td>\n",
       "      <td>3.30</td>\n",
       "      <td>2.42</td>\n",
       "    </tr>\n",
       "    <tr>\n",
       "      <th>Corinthians x Fortaleza</th>\n",
       "      <td>2.07</td>\n",
       "      <td>3.15</td>\n",
       "      <td>4.00</td>\n",
       "    </tr>\n",
       "    <tr>\n",
       "      <th>Vitória x São Paulo</th>\n",
       "      <td>3.30</td>\n",
       "      <td>3.25</td>\n",
       "      <td>2.30</td>\n",
       "    </tr>\n",
       "    <tr>\n",
       "      <th>Athletico-PR x Vasco</th>\n",
       "      <td>1.60</td>\n",
       "      <td>4.00</td>\n",
       "      <td>5.80</td>\n",
       "    </tr>\n",
       "    <tr>\n",
       "      <th>Botafogo x Bahia</th>\n",
       "      <td>1.88</td>\n",
       "      <td>3.65</td>\n",
       "      <td>4.05</td>\n",
       "    </tr>\n",
       "    <tr>\n",
       "      <th>Cuiabá x Palmeiras</th>\n",
       "      <td>5.30</td>\n",
       "      <td>3.55</td>\n",
       "      <td>1.72</td>\n",
       "    </tr>\n",
       "    <tr>\n",
       "      <th>Flamengo x Corinthians</th>\n",
       "      <td>1.60</td>\n",
       "      <td>3.75</td>\n",
       "      <td>6.20</td>\n",
       "    </tr>\n",
       "    <tr>\n",
       "      <th>Atlético-MG x Grêmio</th>\n",
       "      <td>1.80</td>\n",
       "      <td>3.60</td>\n",
       "      <td>4.70</td>\n",
       "    </tr>\n",
       "  </tbody>\n",
       "</table>\n",
       "</div>"
      ],
      "text/plain": [
       "                          Casa Empate  Fora\n",
       "Fluminense x Atlético-MG  2.82   3.20  2.62\n",
       "RB Bragantino x Flamengo  3.00   3.30  2.42\n",
       "Corinthians x Fortaleza   2.07   3.15  4.00\n",
       "Vitória x São Paulo       3.30   3.25  2.30\n",
       "Athletico-PR x Vasco      1.60   4.00  5.80\n",
       "Botafogo x Bahia          1.88   3.65  4.05\n",
       "Cuiabá x Palmeiras        5.30   3.55  1.72\n",
       "Flamengo x Corinthians    1.60   3.75  6.20\n",
       "Atlético-MG x Grêmio      1.80   3.60  4.70"
      ]
     },
     "execution_count": 103,
     "metadata": {},
     "output_type": "execute_result"
    }
   ],
   "source": [
    "#transform the list into a dateframe ex: (team1 x team2) - bet1 - bet2 - bet3\n",
    "df_betano = pd.DataFrame(columns=['Casa', 'Empate', 'Fora'])\n",
    "i = 0\n",
    "while i < len(lista_betano) -4:\n",
    "    df_betano.loc[lista_betano[i] + \" x \" + lista_betano[i+1]] = [lista_betano[i+2], lista_betano[i+3], lista_betano[i+4]]\n",
    "    i += 5\n",
    "df_betano\n"
   ]
  },
  {
   "cell_type": "code",
   "execution_count": null,
   "metadata": {},
   "outputs": [],
   "source": []
  },
  {
   "cell_type": "code",
   "execution_count": 104,
   "metadata": {},
   "outputs": [
    {
     "data": {
      "text/html": [
       "<div>\n",
       "<style scoped>\n",
       "    .dataframe tbody tr th:only-of-type {\n",
       "        vertical-align: middle;\n",
       "    }\n",
       "\n",
       "    .dataframe tbody tr th {\n",
       "        vertical-align: top;\n",
       "    }\n",
       "\n",
       "    .dataframe thead th {\n",
       "        text-align: right;\n",
       "    }\n",
       "</style>\n",
       "<table border=\"1\" class=\"dataframe\">\n",
       "  <thead>\n",
       "    <tr style=\"text-align: right;\">\n",
       "      <th></th>\n",
       "      <th>Casa Sporting</th>\n",
       "      <th>Empate Sporting</th>\n",
       "      <th>Fora Sporting</th>\n",
       "      <th>Casa Betano</th>\n",
       "      <th>Empate Betano</th>\n",
       "      <th>Fora Betano</th>\n",
       "    </tr>\n",
       "  </thead>\n",
       "  <tbody>\n",
       "    <tr>\n",
       "      <th>Fluminense x Atlético-MG</th>\n",
       "      <td>2.70</td>\n",
       "      <td>3.20</td>\n",
       "      <td>2.60</td>\n",
       "      <td>2.82</td>\n",
       "      <td>3.20</td>\n",
       "      <td>2.62</td>\n",
       "    </tr>\n",
       "    <tr>\n",
       "      <th>RB Bragantino x Flamengo</th>\n",
       "      <td>2.87</td>\n",
       "      <td>3.00</td>\n",
       "      <td>2.25</td>\n",
       "      <td>3.00</td>\n",
       "      <td>3.30</td>\n",
       "      <td>2.42</td>\n",
       "    </tr>\n",
       "    <tr>\n",
       "      <th>Corinthians x Fortaleza</th>\n",
       "      <td>2.05</td>\n",
       "      <td>3.25</td>\n",
       "      <td>3.75</td>\n",
       "      <td>2.07</td>\n",
       "      <td>3.15</td>\n",
       "      <td>4.00</td>\n",
       "    </tr>\n",
       "    <tr>\n",
       "      <th>Vitória x São Paulo</th>\n",
       "      <td>3.40</td>\n",
       "      <td>3.00</td>\n",
       "      <td>2.30</td>\n",
       "      <td>3.30</td>\n",
       "      <td>3.25</td>\n",
       "      <td>2.30</td>\n",
       "    </tr>\n",
       "    <tr>\n",
       "      <th>Athletico-PR x Vasco</th>\n",
       "      <td>1.65</td>\n",
       "      <td>3.80</td>\n",
       "      <td>5.25</td>\n",
       "      <td>1.60</td>\n",
       "      <td>4.00</td>\n",
       "      <td>5.80</td>\n",
       "    </tr>\n",
       "    <tr>\n",
       "      <th>Botafogo x Bahia</th>\n",
       "      <td>1.88</td>\n",
       "      <td>3.60</td>\n",
       "      <td>4.00</td>\n",
       "      <td>1.88</td>\n",
       "      <td>3.65</td>\n",
       "      <td>4.05</td>\n",
       "    </tr>\n",
       "    <tr>\n",
       "      <th>Cuiabá x Palmeiras</th>\n",
       "      <td>5.00</td>\n",
       "      <td>3.40</td>\n",
       "      <td>1.78</td>\n",
       "      <td>5.30</td>\n",
       "      <td>3.55</td>\n",
       "      <td>1.72</td>\n",
       "    </tr>\n",
       "    <tr>\n",
       "      <th>Flamengo x Corinthians</th>\n",
       "      <td>N/A</td>\n",
       "      <td>N/A</td>\n",
       "      <td>N/A</td>\n",
       "      <td>1.60</td>\n",
       "      <td>3.75</td>\n",
       "      <td>6.20</td>\n",
       "    </tr>\n",
       "    <tr>\n",
       "      <th>Atlético-MG x Grêmio</th>\n",
       "      <td>N/A</td>\n",
       "      <td>N/A</td>\n",
       "      <td>N/A</td>\n",
       "      <td>1.80</td>\n",
       "      <td>3.60</td>\n",
       "      <td>4.70</td>\n",
       "    </tr>\n",
       "  </tbody>\n",
       "</table>\n",
       "</div>"
      ],
      "text/plain": [
       "                         Casa Sporting Empate Sporting Fora Sporting  \\\n",
       "Fluminense x Atlético-MG          2.70            3.20          2.60   \n",
       "RB Bragantino x Flamengo          2.87            3.00          2.25   \n",
       "Corinthians x Fortaleza           2.05            3.25          3.75   \n",
       "Vitória x São Paulo               3.40            3.00          2.30   \n",
       "Athletico-PR x Vasco              1.65            3.80          5.25   \n",
       "Botafogo x Bahia                  1.88            3.60          4.00   \n",
       "Cuiabá x Palmeiras                5.00            3.40          1.78   \n",
       "Flamengo x Corinthians             N/A             N/A           N/A   \n",
       "Atlético-MG x Grêmio               N/A             N/A           N/A   \n",
       "\n",
       "                         Casa Betano Empate Betano Fora Betano  \n",
       "Fluminense x Atlético-MG        2.82          3.20        2.62  \n",
       "RB Bragantino x Flamengo        3.00          3.30        2.42  \n",
       "Corinthians x Fortaleza         2.07          3.15        4.00  \n",
       "Vitória x São Paulo             3.30          3.25        2.30  \n",
       "Athletico-PR x Vasco            1.60          4.00        5.80  \n",
       "Botafogo x Bahia                1.88          3.65        4.05  \n",
       "Cuiabá x Palmeiras              5.30          3.55        1.72  \n",
       "Flamengo x Corinthians          1.60          3.75        6.20  \n",
       "Atlético-MG x Grêmio            1.80          3.60        4.70  "
      ]
     },
     "execution_count": 104,
     "metadata": {},
     "output_type": "execute_result"
    }
   ],
   "source": [
    "#compare both dataframes and save the differences in a new dataframe\n",
    "df_diferenca = pd.DataFrame(columns=['Casa Sporting', 'Empate Sporting', 'Fora Sporting', 'Casa Betano', 'Empate Betano', 'Fora Betano'])\n",
    "for i in df_sporting.index:\n",
    "    if i in df_betano.index:\n",
    "        if df_sporting.loc[i].equals(df_betano.loc[i]) == False:\n",
    "            df_diferenca.loc[i] = [df_sporting.loc[i][0], df_sporting.loc[i][1], df_sporting.loc[i][2], df_betano.loc[i][0], df_betano.loc[i][1], df_betano.loc[i][2]]\n",
    "    else:\n",
    "        df_diferenca.loc[i] = [df_sporting.loc[i][0], df_sporting.loc[i][1], df_sporting.loc[i][2], 'N/A', 'N/A', 'N/A']\n",
    "for i in df_betano.index:\n",
    "    if i not in df_sporting.index:\n",
    "        df_diferenca.loc[i] = ['N/A', 'N/A', 'N/A', df_betano.loc[i][0], df_betano.loc[i][1], df_betano.loc[i][2]]\n",
    "df_diferenca\n"
   ]
  },
  {
   "cell_type": "code",
   "execution_count": null,
   "metadata": {},
   "outputs": [],
   "source": []
  }
 ],
 "metadata": {
  "kernelspec": {
   "display_name": ".venv",
   "language": "python",
   "name": "python3"
  },
  "language_info": {
   "codemirror_mode": {
    "name": "ipython",
    "version": 3
   },
   "file_extension": ".py",
   "mimetype": "text/x-python",
   "name": "python",
   "nbconvert_exporter": "python",
   "pygments_lexer": "ipython3",
   "version": "3.10.10"
  }
 },
 "nbformat": 4,
 "nbformat_minor": 2
}
