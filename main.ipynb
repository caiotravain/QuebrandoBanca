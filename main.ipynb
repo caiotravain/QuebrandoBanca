{
 "cells": [
  {
   "cell_type": "code",
   "execution_count": 1,
   "metadata": {},
   "outputs": [
    {
     "name": "stdout",
     "output_type": "stream",
     "text": [
      "Collecting selenium\n",
      "  Downloading selenium-4.20.0-py3-none-any.whl.metadata (6.9 kB)\n",
      "Requirement already satisfied: urllib3<3,>=1.26 in f:\\insper2024\\web_scrap\\aula_05\\.venv\\lib\\site-packages (from urllib3[socks]<3,>=1.26->selenium) (2.2.1)\n",
      "Collecting trio~=0.17 (from selenium)\n",
      "  Downloading trio-0.25.0-py3-none-any.whl.metadata (8.7 kB)\n",
      "Collecting trio-websocket~=0.9 (from selenium)\n",
      "  Downloading trio_websocket-0.11.1-py3-none-any.whl.metadata (4.7 kB)\n",
      "Requirement already satisfied: certifi>=2021.10.8 in f:\\insper2024\\web_scrap\\aula_05\\.venv\\lib\\site-packages (from selenium) (2024.2.2)\n",
      "Collecting typing_extensions>=4.9.0 (from selenium)\n",
      "  Downloading typing_extensions-4.11.0-py3-none-any.whl.metadata (3.0 kB)\n",
      "Collecting attrs>=23.2.0 (from trio~=0.17->selenium)\n",
      "  Downloading attrs-23.2.0-py3-none-any.whl.metadata (9.5 kB)\n",
      "Collecting sortedcontainers (from trio~=0.17->selenium)\n",
      "  Using cached sortedcontainers-2.4.0-py2.py3-none-any.whl.metadata (10 kB)\n",
      "Requirement already satisfied: idna in f:\\insper2024\\web_scrap\\aula_05\\.venv\\lib\\site-packages (from trio~=0.17->selenium) (3.6)\n",
      "Collecting outcome (from trio~=0.17->selenium)\n",
      "  Downloading outcome-1.3.0.post0-py2.py3-none-any.whl.metadata (2.6 kB)\n",
      "Collecting sniffio>=1.3.0 (from trio~=0.17->selenium)\n",
      "  Downloading sniffio-1.3.1-py3-none-any.whl.metadata (3.9 kB)\n",
      "Collecting cffi>=1.14 (from trio~=0.17->selenium)\n",
      "  Using cached cffi-1.16.0-cp312-cp312-win_amd64.whl.metadata (1.5 kB)\n",
      "Collecting wsproto>=0.14 (from trio-websocket~=0.9->selenium)\n",
      "  Downloading wsproto-1.2.0-py3-none-any.whl.metadata (5.6 kB)\n",
      "Collecting pysocks!=1.5.7,<2.0,>=1.5.6 (from urllib3[socks]<3,>=1.26->selenium)\n",
      "  Using cached PySocks-1.7.1-py3-none-any.whl.metadata (13 kB)\n",
      "Collecting pycparser (from cffi>=1.14->trio~=0.17->selenium)\n",
      "  Downloading pycparser-2.22-py3-none-any.whl.metadata (943 bytes)\n",
      "Collecting h11<1,>=0.9.0 (from wsproto>=0.14->trio-websocket~=0.9->selenium)\n",
      "  Downloading h11-0.14.0-py3-none-any.whl.metadata (8.2 kB)\n",
      "Downloading selenium-4.20.0-py3-none-any.whl (9.5 MB)\n",
      "   ---------------------------------------- 0.0/9.5 MB ? eta -:--:--\n",
      "    --------------------------------------- 0.1/9.5 MB 3.6 MB/s eta 0:00:03\n",
      "   -- ------------------------------------- 0.6/9.5 MB 7.4 MB/s eta 0:00:02\n",
      "   ---- ----------------------------------- 1.1/9.5 MB 10.3 MB/s eta 0:00:01\n",
      "   ------- -------------------------------- 1.7/9.5 MB 11.0 MB/s eta 0:00:01\n",
      "   --------- ------------------------------ 2.3/9.5 MB 11.1 MB/s eta 0:00:01\n",
      "   ----------- ---------------------------- 2.9/9.5 MB 12.1 MB/s eta 0:00:01\n",
      "   -------------- ------------------------- 3.4/9.5 MB 11.5 MB/s eta 0:00:01\n",
      "   ---------------- ----------------------- 4.0/9.5 MB 12.1 MB/s eta 0:00:01\n",
      "   ------------------ --------------------- 4.4/9.5 MB 11.8 MB/s eta 0:00:01\n",
      "   --------------------- ------------------ 5.1/9.5 MB 12.0 MB/s eta 0:00:01\n",
      "   ----------------------- ---------------- 5.6/9.5 MB 12.4 MB/s eta 0:00:01\n",
      "   ------------------------- -------------- 6.0/9.5 MB 12.3 MB/s eta 0:00:01\n",
      "   -------------------------- ------------- 6.2/9.5 MB 11.3 MB/s eta 0:00:01\n",
      "   ---------------------------- ----------- 6.7/9.5 MB 11.6 MB/s eta 0:00:01\n",
      "   ------------------------------ --------- 7.3/9.5 MB 11.7 MB/s eta 0:00:01\n",
      "   -------------------------------- ------- 7.8/9.5 MB 11.9 MB/s eta 0:00:01\n",
      "   ----------------------------------- ---- 8.4/9.5 MB 11.9 MB/s eta 0:00:01\n",
      "   ------------------------------------ --- 8.8/9.5 MB 11.7 MB/s eta 0:00:01\n",
      "   ---------------------------------------  9.3/9.5 MB 11.9 MB/s eta 0:00:01\n",
      "   ---------------------------------------- 9.5/9.5 MB 11.5 MB/s eta 0:00:00\n",
      "Downloading trio-0.25.0-py3-none-any.whl (467 kB)\n",
      "   ---------------------------------------- 0.0/467.2 kB ? eta -:--:--\n",
      "   --------------------------------------  460.8/467.2 kB 14.5 MB/s eta 0:00:01\n",
      "   ---------------------------------------- 467.2/467.2 kB 9.7 MB/s eta 0:00:00\n",
      "Downloading trio_websocket-0.11.1-py3-none-any.whl (17 kB)\n",
      "Downloading typing_extensions-4.11.0-py3-none-any.whl (34 kB)\n",
      "Downloading attrs-23.2.0-py3-none-any.whl (60 kB)\n",
      "   ---------------------------------------- 0.0/60.8 kB ? eta -:--:--\n",
      "   ---------------------------------------- 60.8/60.8 kB 3.2 MB/s eta 0:00:00\n",
      "Using cached cffi-1.16.0-cp312-cp312-win_amd64.whl (181 kB)\n",
      "Using cached PySocks-1.7.1-py3-none-any.whl (16 kB)\n",
      "Downloading sniffio-1.3.1-py3-none-any.whl (10 kB)\n",
      "Downloading wsproto-1.2.0-py3-none-any.whl (24 kB)\n",
      "Downloading outcome-1.3.0.post0-py2.py3-none-any.whl (10 kB)\n",
      "Using cached sortedcontainers-2.4.0-py2.py3-none-any.whl (29 kB)\n",
      "Downloading h11-0.14.0-py3-none-any.whl (58 kB)\n",
      "   ---------------------------------------- 0.0/58.3 kB ? eta -:--:--\n",
      "   ---------------------------------------- 58.3/58.3 kB 3.0 MB/s eta 0:00:00\n",
      "Downloading pycparser-2.22-py3-none-any.whl (117 kB)\n",
      "   ---------------------------------------- 0.0/117.6 kB ? eta -:--:--\n",
      "   ---------------------------------------- 117.6/117.6 kB 3.5 MB/s eta 0:00:00\n",
      "Installing collected packages: sortedcontainers, typing_extensions, sniffio, pysocks, pycparser, h11, attrs, wsproto, outcome, cffi, trio, trio-websocket, selenium\n",
      "Successfully installed attrs-23.2.0 cffi-1.16.0 h11-0.14.0 outcome-1.3.0.post0 pycparser-2.22 pysocks-1.7.1 selenium-4.20.0 sniffio-1.3.1 sortedcontainers-2.4.0 trio-0.25.0 trio-websocket-0.11.1 typing_extensions-4.11.0 wsproto-1.2.0\n"
     ]
    }
   ],
   "source": [
    "#intsll selenium\n",
    "#install geckodriver\n",
    "!pip install selenium\n"
   ]
  },
  {
   "cell_type": "code",
   "execution_count": 80,
   "metadata": {},
   "outputs": [],
   "source": [
    "#basic imports\n",
    "from selenium import webdriver\n",
    "from selenium.webdriver.common.keys import Keys\n",
    "from selenium.webdriver.common.by import By\n",
    "import subprocess\n",
    "import pandas as pd\n"
   ]
  },
  {
   "cell_type": "code",
   "execution_count": 131,
   "metadata": {},
   "outputs": [],
   "source": [
    "subprocess.Popen(\n",
    "   '\"C:\\\\Program Files\\\\Google\\\\Chrome\\\\Application\\\\chrome.exe\" --remote-debugging-port=9222', shell=True)\n",
    "   \n",
    "options = webdriver.ChromeOptions()\n",
    "options.add_experimental_option(\"debuggerAddress\", \"127.0.0.1:9222\")\n",
    "#add option to bypass detection\n",
    "options.add_argument(\"--disable-blink-features=AutomationControlled\")\n",
    "#add option to bypass detection\n",
    "\n",
    "\n",
    "driver = webdriver.Chrome(options=options)\n",
    "driver.maximize_window()\n",
    "# driver.get('https://br.sporting.com/sport/futebol/brasil/brasileirao-serie-a-sporting/10016/')\n",
    "driver.get('https://sports.sportingbet.com/pt-br/sports/futebol-4/aposta/brasil-33/brasileir%C3%A3o-a-102838')"
   ]
  },
  {
   "cell_type": "code",
   "execution_count": 132,
   "metadata": {},
   "outputs": [
    {
     "name": "stdout",
     "output_type": "stream",
     "text": [
      "['1.62', '3.80', '5.50', '1.98', '1.75', '3.80', '3.20', '2.05', '2.40', '1.50', '1.63', '3.90', '5.25', '1.93', '1.78', '1.71', '3.60', '5.25', '2.20', '1.61', '2.35', '3.10', '3.20', '2.25', '1.58', '2.00', '3.40', '3.75', '2.05', '1.70', '3.10', '3.10', '2.40', '2.30', '1.55', '1.49', '4.33', '6.50', '1.82', '1.88', '3.00', '3.00', '2.55', '2.40', '1.50']\n"
     ]
    }
   ],
   "source": [
    "#find all grid-group-container class\n",
    "# driver.find_elements(By.CLASS_NAME, 'grid-group-container')[0]\n",
    "#get option option-value ng-star-inserted class on the grid-group-container\n",
    "# driver.find_elements(By.CLASS_NAME, 'grid-group-container')[0].find_element(By.CLASS_NAME, 'option-value.ng-star-inserted')\n",
    "#get their value    \n",
    "lista_sporting = []\n",
    "driver.find_elements(By.CLASS_NAME, 'option-value.ng-star-inserted')\n",
    "for i in driver.find_elements(By.CLASS_NAME, 'option-value.ng-star-inserted'):\n",
    "    lista_sporting.append(i.text)\n",
    "print(lista_sporting)\n"
   ]
  },
  {
   "cell_type": "code",
   "execution_count": 133,
   "metadata": {},
   "outputs": [
    {
     "name": "stdout",
     "output_type": "stream",
     "text": [
      "['Vasco', 'Criciúma', 'Cuiabá', 'Atlético-MG', 'Bahia', 'Grêmio', 'Flamengo', 'Botafogo', 'Cruzeiro', 'Vitória', 'Corinthians', 'Fluminense', 'Fortaleza', 'RB Bragantino', 'Juventude', 'Athletico-PR', 'Inter', 'Atlético-GO', 'São Paulo', 'Palmeiras']\n"
     ]
    }
   ],
   "source": [
    "#find vasco text on the page and get the class\n",
    "# classes = (driver.find_element(By.XPATH, '//*[contains(text(), \"Vasco\")]').get_attribute('class'))\n",
    "# #find the element with the class\n",
    "lista_times_sporting = []\n",
    "driver.find_elements(By.CLASS_NAME, \"participant-container\")\n",
    "for i in driver.find_elements(By.CLASS_NAME, \"participant-container\"):\n",
    "    lista_times_sporting.append(i.text)\n",
    "print(lista_times_sporting)"
   ]
  },
  {
   "cell_type": "code",
   "execution_count": 134,
   "metadata": {},
   "outputs": [
    {
     "name": "stdout",
     "output_type": "stream",
     "text": [
      "['Bahia', 'Grêmio']\n"
     ]
    }
   ],
   "source": [
    "#find grid-event-wrapper image empty ng-star-inserted\n",
    "lista_remover_sporting = []\n",
    "driver.find_elements(By.CLASS_NAME, 'grid-event-wrapper.image.empty.ng-star-inserted')\n",
    "for i in driver.find_elements(By.CLASS_NAME, 'grid-event-wrapper.image.empty.ng-star-inserted'):\n",
    "    time = i.find_elements(By.CLASS_NAME, 'participant-container')\n",
    "    for j in time:\n",
    "        lista_remover_sporting.append(j.text)\n",
    "print(lista_remover_sporting)"
   ]
  },
  {
   "cell_type": "code",
   "execution_count": 135,
   "metadata": {},
   "outputs": [],
   "source": [
    "dict_times_bet_sporting = {}\n",
    "#save bet_0 -- teams 1 and 2 and their odds\n",
    "i = 0\n",
    "j = 0\n",
    "while i < len(lista_times_sporting):\n",
    "    if lista_times_sporting[i] and lista_times_sporting[i+1] not in lista_remover_sporting:\n",
    "        dict_times_bet_sporting[lista_times_sporting[i] + \" x \" + lista_times_sporting[i+1]] = [lista_sporting[j]  , lista_sporting[j+1], lista_sporting[j+2]]\n",
    "        j += 5\n",
    "    i += 2\n",
    "\n"
   ]
  },
  {
   "cell_type": "code",
   "execution_count": 136,
   "metadata": {},
   "outputs": [
    {
     "name": "stdout",
     "output_type": "stream",
     "text": [
      "{'Vasco x Criciúma': ['1.62', '3.80', '5.50'], 'Cuiabá x Atlético-MG': ['3.80', '3.20', '2.05'], 'Flamengo x Botafogo': ['1.63', '3.90', '5.25'], 'Cruzeiro x Vitória': ['1.71', '3.60', '5.25'], 'Corinthians x Fluminense': ['2.35', '3.10', '3.20'], 'Fortaleza x RB Bragantino': ['2.00', '3.40', '3.75'], 'Juventude x Athletico-PR': ['3.10', '3.10', '2.40'], 'Inter x Atlético-GO': ['1.49', '4.33', '6.50'], 'São Paulo x Palmeiras': ['3.00', '3.00', '2.55']}\n"
     ]
    }
   ],
   "source": [
    "print(dict_times_bet_sporting)"
   ]
  },
  {
   "cell_type": "code",
   "execution_count": 138,
   "metadata": {},
   "outputs": [
    {
     "name": "stdout",
     "output_type": "stream",
     "text": [
      "                              0     1     2\n",
      "Vasco x Criciúma           1.62  3.80  5.50\n",
      "Cuiabá x Atlético-MG       3.80  3.20  2.05\n",
      "Flamengo x Botafogo        1.63  3.90  5.25\n",
      "Cruzeiro x Vitória         1.71  3.60  5.25\n",
      "Corinthians x Fluminense   2.35  3.10  3.20\n",
      "Fortaleza x RB Bragantino  2.00  3.40  3.75\n",
      "Juventude x Athletico-PR   3.10  3.10  2.40\n",
      "Inter x Atlético-GO        1.49  4.33  6.50\n",
      "São Paulo x Palmeiras      3.00  3.00  2.55\n"
     ]
    }
   ],
   "source": [
    "#dict to dataframe\n",
    "df_sporting = pd.DataFrame(dict_times_bet_sporting).T\n",
    "print(df_sporting)"
   ]
  },
  {
   "cell_type": "code",
   "execution_count": null,
   "metadata": {},
   "outputs": [],
   "source": []
  },
  {
   "cell_type": "code",
   "execution_count": null,
   "metadata": {},
   "outputs": [],
   "source": []
  }
 ],
 "metadata": {
  "kernelspec": {
   "display_name": ".venv",
   "language": "python",
   "name": "python3"
  },
  "language_info": {
   "codemirror_mode": {
    "name": "ipython",
    "version": 3
   },
   "file_extension": ".py",
   "mimetype": "text/x-python",
   "name": "python",
   "nbconvert_exporter": "python",
   "pygments_lexer": "ipython3",
   "version": "3.12.3"
  }
 },
 "nbformat": 4,
 "nbformat_minor": 2
}
